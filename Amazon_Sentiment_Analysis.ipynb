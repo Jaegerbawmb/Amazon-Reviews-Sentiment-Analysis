{
  "nbformat": 4,
  "nbformat_minor": 0,
  "metadata": {
    "colab": {
      "provenance": []
    },
    "kernelspec": {
      "name": "python3",
      "display_name": "Python 3"
    },
    "language_info": {
      "name": "python"
    }
  },
  "cells": [
    {
      "cell_type": "code",
      "execution_count": null,
      "metadata": {
        "id": "z_rVwuBGKh5v"
      },
      "outputs": [],
      "source": [
        "import pandas as pd\n",
        "import numpy as np\n",
        "import matplotlib.pyplot as plt\n",
        "import seaborn as sns\n",
        "\n",
        "plt.style.use('ggplot')\n",
        "\n",
        "import nltk"
      ]
    },
    {
      "cell_type": "code",
      "source": [
        "import csv\n",
        "df = pd.read_csv('/content/Reviews.csv', on_bad_lines='skip', quoting=csv.QUOTE_NONE)\n",
        "df.head()"
      ],
      "metadata": {
        "id": "q1gQOyUCLA82"
      },
      "execution_count": null,
      "outputs": []
    },
    {
      "cell_type": "code",
      "source": [
        "df['Text'].values[1]"
      ],
      "metadata": {
        "id": "71yY3FjFMVAs"
      },
      "execution_count": null,
      "outputs": []
    },
    {
      "cell_type": "code",
      "source": [
        "df = df.head(500)\n",
        "print(df.shape)"
      ],
      "metadata": {
        "id": "SlmI6mffPmRD"
      },
      "execution_count": null,
      "outputs": []
    },
    {
      "cell_type": "code",
      "source": [
        "ax = df['Score'].value_counts().sort_index().plot(kind = 'bar', title = 'Count fo reveiws by stars', figsize = (10,5))\n",
        "ax.set_xlabel('Review Stars')\n",
        "plt.show()"
      ],
      "metadata": {
        "id": "kDuG89ITPqif"
      },
      "execution_count": null,
      "outputs": []
    },
    {
      "cell_type": "code",
      "source": [
        "example = df['Text'].values[50]\n",
        "print(example)"
      ],
      "metadata": {
        "id": "PAbNjYT6QNZf"
      },
      "execution_count": null,
      "outputs": []
    },
    {
      "cell_type": "code",
      "source": [
        "nltk.download('punkt')\n",
        "tokens = nltk.word_tokenize(example)\n",
        "tokens[:10]"
      ],
      "metadata": {
        "id": "_tu9i4xUQKYX"
      },
      "execution_count": null,
      "outputs": []
    },
    {
      "cell_type": "markdown",
      "source": [
        "part of speech"
      ],
      "metadata": {
        "id": "I8JSwXP4RJln"
      }
    },
    {
      "cell_type": "code",
      "source": [
        "nltk.download('averaged_perceptron_tagger')\n",
        "tagged = nltk.pos_tag(tokens)\n",
        "tagged[:10]"
      ],
      "metadata": {
        "id": "PL5-OTCPRHbE"
      },
      "execution_count": null,
      "outputs": []
    },
    {
      "cell_type": "markdown",
      "source": [
        "group the tokens into chunks of text\n",
        "pprint = pretty print"
      ],
      "metadata": {
        "id": "UqZdciewRrKH"
      }
    },
    {
      "cell_type": "code",
      "source": [
        "nltk.download('maxent_ne_chunker')\n",
        "nltk.download('words')\n",
        "entities = nltk.chunk.ne_chunk(tagged)\n",
        "entities.pprint()"
      ],
      "metadata": {
        "id": "s_YXifZnRjwn"
      },
      "execution_count": null,
      "outputs": []
    },
    {
      "cell_type": "markdown",
      "source": [
        "Vader sentiment scoring"
      ],
      "metadata": {
        "id": "B1Xm1PkqTUVT"
      }
    },
    {
      "cell_type": "markdown",
      "source": [
        "contains words with pos, neg, neu scoring"
      ],
      "metadata": {
        "id": "pSvnaMMRxuOH"
      }
    },
    {
      "cell_type": "code",
      "source": [
        "nltk.download('vader_lexicon')\n",
        "from nltk.sentiment import SentimentIntensityAnalyzer\n",
        "from tqdm.notebook import tqdm\n",
        "\n",
        "sia = SentimentIntensityAnalyzer()"
      ],
      "metadata": {
        "id": "kmK0992TTXEN"
      },
      "execution_count": null,
      "outputs": []
    },
    {
      "cell_type": "code",
      "source": [
        "sia.polarity_scores(\"I am so happy!\")"
      ],
      "metadata": {
        "id": "CT4qT4DcUACF"
      },
      "execution_count": null,
      "outputs": []
    },
    {
      "cell_type": "markdown",
      "source": [
        "0 negative, neutral 0.3, positive 0.6, compound = negative to positive"
      ],
      "metadata": {
        "id": "XJYSJOddUFms"
      }
    },
    {
      "cell_type": "code",
      "source": [
        "sia.polarity_scores('This is the worst thing ever')"
      ],
      "metadata": {
        "id": "SGihgJ0nUN3C"
      },
      "execution_count": null,
      "outputs": []
    },
    {
      "cell_type": "markdown",
      "source": [
        "mostly negatvie and neutral, compund score si more on the negative side"
      ],
      "metadata": {
        "id": "GbPHQRIGUSfR"
      }
    },
    {
      "cell_type": "code",
      "source": [
        "sia.polarity_scores(example)"
      ],
      "metadata": {
        "id": "msNUEDmoUWQy"
      },
      "execution_count": null,
      "outputs": []
    },
    {
      "cell_type": "markdown",
      "source": [
        "no polarity score"
      ],
      "metadata": {
        "id": "eRjo5RVDUe8L"
      }
    },
    {
      "cell_type": "code",
      "source": [
        "df"
      ],
      "metadata": {
        "id": "9kdLwAHPUcGj"
      },
      "execution_count": null,
      "outputs": []
    },
    {
      "cell_type": "markdown",
      "source": [
        "TQDM = PROGRESS BAR FOR processing data"
      ],
      "metadata": {
        "id": "ch_0WzaD0Acv"
      }
    },
    {
      "cell_type": "code",
      "source": [
        "res= {}\n",
        "for i, row in tqdm(df.iterrows(), total = len(df)):\n",
        "  text = row['Text']\n",
        "  myid = row['Id']\n",
        "  res[myid] = sia.polarity_scores(text)\n",
        "  break"
      ],
      "metadata": {
        "id": "cqnkiHmOUkgL"
      },
      "execution_count": null,
      "outputs": []
    },
    {
      "cell_type": "markdown",
      "source": [
        ".T flips everything horizontally"
      ],
      "metadata": {
        "id": "NJShB-zEacrZ"
      }
    },
    {
      "cell_type": "code",
      "source": [
        "pd.DataFrame(res).T"
      ],
      "metadata": {
        "id": "1OY63R6HZVUx"
      },
      "execution_count": null,
      "outputs": []
    },
    {
      "cell_type": "markdown",
      "source": [
        " Vader model"
      ],
      "metadata": {
        "id": "aLPfxgEcyK2O"
      }
    },
    {
      "cell_type": "code",
      "source": [
        "vaders = pd.DataFrame(res).T\n",
        "vaders = vaders.reset_index().rename(columns= {'index': 'Id'})\n",
        "vaders = vaders.merge(df, how = 'left')"
      ],
      "metadata": {
        "id": "oPI9pM7kafWB"
      },
      "execution_count": null,
      "outputs": []
    },
    {
      "cell_type": "code",
      "source": [
        "vaders.head()"
      ],
      "metadata": {
        "id": "xrF6HQOGbcx-"
      },
      "execution_count": null,
      "outputs": []
    },
    {
      "cell_type": "code",
      "source": [
        "ax = sns.barplot(data = vaders, x = 'Score', y = 'vader_compound')\n",
        "ax.set_title('Compound ScOre by amazons tar review')\n",
        "plt.show()"
      ],
      "metadata": {
        "id": "Qt8mlz7Y85qq"
      },
      "execution_count": null,
      "outputs": []
    },
    {
      "cell_type": "code",
      "source": [
        "fig, axs = plt.subplots(1, 3, figsize = (12,3))\n",
        "sns.barplot(data = vaders, x='Score', y = 'vader_pos', ax = axs[0])\n",
        "sns.barplot(data = vaders, x='Score', y = 'vader_neu', ax = axs[1])\n",
        "sns.barplot(data = vaders, x='Score', y = 'vader_neg', ax = axs[2])\n",
        "axs[0].set_title('Positive')\n",
        "axs[1].set_title('Neutral')\n",
        "axs[2].set_title('Negative')\n",
        "plt.show()"
      ],
      "metadata": {
        "id": "lL9m1Lec9RQg"
      },
      "execution_count": null,
      "outputs": []
    },
    {
      "cell_type": "markdown",
      "source": [
        "  Roberta pretrained model"
      ],
      "metadata": {
        "id": "gEE6zS54gE0I"
      }
    },
    {
      "cell_type": "code",
      "source": [
        "from transformers import AutoTokenizer\n",
        "from transformers import AutoModelForSequenceClassification\n",
        "from scipy.special import softmax"
      ],
      "metadata": {
        "id": "0DQmpUO1gC9Z"
      },
      "execution_count": null,
      "outputs": []
    },
    {
      "cell_type": "code",
      "source": [
        "MODEL = f\"cardiffnlp/twitter-roberta-base-sentiment\"\n",
        "tokenizer = AutoTokenizer.from_pretrained(MODEL)\n",
        "model = AutoModelForSequenceClassification.from_pretrained(MODEL)"
      ],
      "metadata": {
        "id": "YERDWqlyoDtN"
      },
      "execution_count": null,
      "outputs": []
    },
    {
      "cell_type": "code",
      "source": [
        "print(example)\n",
        "sia.polarity_scores(example)"
      ],
      "metadata": {
        "id": "jW0G_WXeonv7"
      },
      "execution_count": null,
      "outputs": []
    },
    {
      "cell_type": "markdown",
      "source": [
        "pt = pytorch"
      ],
      "metadata": {
        "id": "wf4O-Z7fo8IK"
      }
    },
    {
      "cell_type": "code",
      "source": [
        "encoded_text = tokenizer(example, return_tensors = 'pt')\n",
        "output = model(**encoded_text)\n",
        "scores = output[0][0].detach().numpy()\n",
        "scores = softmax(scores)\n",
        "scores_dict = {\n",
        "    'roberta_neg' : scores[0],\n",
        "    'roberta_neu' : scores[1],\n",
        "    'roberta_pos' : scores[2]\n",
        "\n",
        "}\n",
        "print(scores_dict)"
      ],
      "metadata": {
        "id": "ft93_fAdozUi"
      },
      "execution_count": null,
      "outputs": []
    },
    {
      "cell_type": "markdown",
      "source": [
        "much more specific scores"
      ],
      "metadata": {
        "id": "r4vZl1r2p8yu"
      }
    },
    {
      "cell_type": "code",
      "source": [
        "def polarity_scores_roberta(example):\n",
        "  encoded_text = tokenizer(example, return_tensors = 'pt')\n",
        "  output = model(**encoded_text)\n",
        "  scores = output[0][0].detach().numpy()\n",
        "  scores = softmax(scores)\n",
        "  scores_dict = {\n",
        "      'roberta_neg' : scores[0],\n",
        "      'roberta_neu' : scores[1],\n",
        "      'roberta_pos' : scores[2]\n",
        "      }\n",
        "  return scores_dict"
      ],
      "metadata": {
        "id": "jYVUxMxnp5_e"
      },
      "execution_count": null,
      "outputs": []
    },
    {
      "cell_type": "code",
      "source": [
        "res = {}\n",
        "for i, row in tqdm(df.iterrows(), total = len(df)):\n",
        "  try:\n",
        "    text = row['Text']\n",
        "    myid = row['Id']\n",
        "    vader_result = sia.polarity_scores(text)\n",
        "    vader_result_rename = {}\n",
        "    for key, value in vader_result.items():\n",
        "      vader_result_rename[f\"vader_{key}\"] = value\n",
        "\n",
        "    roberta_result = polarity_scores_roberta(text)\n",
        "    both = {**vader_result_rename, **roberta_result}\n",
        "    res[myid] = both\n",
        "  except RunTimeError:\n",
        "    print(f'Broke for id {myid}')"
      ],
      "metadata": {
        "id": "t1yYYqAVo9hc"
      },
      "execution_count": null,
      "outputs": []
    },
    {
      "cell_type": "code",
      "source": [
        "results_df = pd.DataFrame(res).T\n",
        "results_df = results_df.reset_index().rename(columns= {'index': 'Id'})\n",
        "results_df = results_df.merge(df, how = 'left')"
      ],
      "metadata": {
        "id": "0NFM843Oqpre"
      },
      "execution_count": null,
      "outputs": []
    },
    {
      "cell_type": "code",
      "source": [
        "results_df.head()"
      ],
      "metadata": {
        "id": "EpZcwUVzs1iD"
      },
      "execution_count": null,
      "outputs": []
    },
    {
      "cell_type": "code",
      "source": [
        "results_df.columns"
      ],
      "metadata": {
        "id": "UhGxWUuUtEH3"
      },
      "execution_count": null,
      "outputs": []
    },
    {
      "cell_type": "code",
      "source": [
        "sns.pairplot(data = results_df, vars=['vader_neg', 'vader_neu', 'vader_pos', 'roberta_neg', 'roberta_neu', 'roberta_pos'],\n",
        "             hue = 'Score',\n",
        "             palette = 'tab10')\n",
        "plt.show()"
      ],
      "metadata": {
        "id": "5cJ2lbhWtVFP"
      },
      "execution_count": null,
      "outputs": []
    },
    {
      "cell_type": "markdown",
      "source": [
        "  Text that the model judges as positive but is actually given a ratin of 1 star"
      ],
      "metadata": {
        "id": "5g_qVi88uuii"
      }
    },
    {
      "cell_type": "code",
      "source": [
        "results_df.query('Score == 1').sort_values('roberta_pos', ascending=False)['Text'].values[0]"
      ],
      "metadata": {
        "id": "CFiWHrbcuVrX"
      },
      "execution_count": null,
      "outputs": []
    },
    {
      "cell_type": "code",
      "source": [
        "results_df.query('Score == 1').sort_values('vader_pos', ascending=False)['Text'].values[0]"
      ],
      "metadata": {
        "id": "M0AUriz_u_js"
      },
      "execution_count": null,
      "outputs": []
    },
    {
      "cell_type": "markdown",
      "source": [
        "Positive review classified as negative"
      ],
      "metadata": {
        "id": "fH_SaxC_vWyV"
      }
    },
    {
      "cell_type": "code",
      "source": [
        "results_df.query('Score == 5').sort_values('roberta_neg', ascending=False)['Text'].values[0]"
      ],
      "metadata": {
        "id": "8ZJsCJ3GvK_X"
      },
      "execution_count": null,
      "outputs": []
    },
    {
      "cell_type": "code",
      "source": [
        "results_df.query('Score == 5').sort_values('vader_neg', ascending=False)['Text'].values[0]"
      ],
      "metadata": {
        "id": "3t7bp8N2vaua"
      },
      "execution_count": null,
      "outputs": []
    },
    {
      "cell_type": "code",
      "source": [
        "from transformers import pipeline\n",
        "\n",
        "sent_pipeline = pipeline(\"sentiment-analysis\")"
      ],
      "metadata": {
        "id": "n_9nfkYlv467"
      },
      "execution_count": null,
      "outputs": []
    },
    {
      "cell_type": "code",
      "source": [
        "sent_pipeline('I love sentiment analysis')"
      ],
      "metadata": {
        "id": "7ALyVZcEwYvL"
      },
      "execution_count": null,
      "outputs": []
    },
    {
      "cell_type": "code",
      "source": [
        "sent_pipeline(\"I don't think this is gonna work out\")"
      ],
      "metadata": {
        "id": "0OmyY70_wc2R"
      },
      "execution_count": null,
      "outputs": []
    },
    {
      "cell_type": "code",
      "source": [
        "sent_pipeline(\"I guess it's best for both of us\")"
      ],
      "metadata": {
        "id": "t1Xv5AIgwhVp"
      },
      "execution_count": null,
      "outputs": []
    },
    {
      "cell_type": "code",
      "source": [
        "sent_pipeline(\"Do I look like I'm happy\")"
      ],
      "metadata": {
        "id": "stIGVzWmwmqD"
      },
      "execution_count": null,
      "outputs": []
    }
  ]
}